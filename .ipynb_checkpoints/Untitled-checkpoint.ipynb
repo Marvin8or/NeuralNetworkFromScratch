{
 "cells": [
  {
   "cell_type": "code",
   "execution_count": 1,
   "id": "1bd1e5b2",
   "metadata": {},
   "outputs": [],
   "source": [
    "import numpy as np"
   ]
  },
  {
   "cell_type": "code",
   "execution_count": 10,
   "id": "36dce9ca",
   "metadata": {},
   "outputs": [
    {
     "data": {
      "text/plain": [
       "array([[1],\n",
       "       [2],\n",
       "       [3],\n",
       "       [4],\n",
       "       [5]])"
      ]
     },
     "execution_count": 10,
     "metadata": {},
     "output_type": "execute_result"
    }
   ],
   "source": [
    "input_vector = np.array([[1, 2, 3, 4, 5]]).T\n",
    "input_vector"
   ]
  },
  {
   "cell_type": "markdown",
   "id": "240dd8a5",
   "metadata": {},
   "source": [
    "\n",
    "    weights_0 shape --> 6 X 5\n",
    "    weights_0 rows --> number_neurons_next_layer = 6\n",
    "    weights_0 columns  --> input_vector.shape[0] = 5\n",
    "    "
   ]
  },
  {
   "cell_type": "markdown",
   "id": "aaa9c357",
   "metadata": {},
   "source": [
    "    \n",
    "    normal(loc=0.0, scale=1.0, size=None)\n",
    "    array(object, dtype=None, *, copy=True, order='K', subok=False, ndmin=0,\n",
    "              like=None)\n"
   ]
  },
  {
   "cell_type": "code",
   "execution_count": 16,
   "id": "4b4840fe",
   "metadata": {},
   "outputs": [
    {
     "data": {
      "text/plain": [
       "(6, 5)"
      ]
     },
     "execution_count": 16,
     "metadata": {},
     "output_type": "execute_result"
    }
   ],
   "source": [
    "weights_0 = np.random.normal(size=(6, input_vector.shape[0]))\n",
    "weights_0.shape"
   ]
  },
  {
   "cell_type": "code",
   "execution_count": 21,
   "id": "975bf966",
   "metadata": {},
   "outputs": [
    {
     "data": {
      "text/plain": [
       "(6, 1)"
      ]
     },
     "execution_count": 21,
     "metadata": {},
     "output_type": "execute_result"
    }
   ],
   "source": [
    "bias_0 = np.array([[2, 2, 2, 2, 2, 2]]).T\n",
    "bias_0.shape"
   ]
  },
  {
   "cell_type": "code",
   "execution_count": 22,
   "id": "767d269c",
   "metadata": {},
   "outputs": [],
   "source": [
    "def ReLU(tensor_1d):\n",
    "    return np.maximum(0, tensor_1d)"
   ]
  },
  {
   "cell_type": "code",
   "execution_count": 42,
   "id": "a1d1ce17",
   "metadata": {},
   "outputs": [
    {
     "name": "stdout",
     "output_type": "stream",
     "text": [
      "[[8.14238706]\n",
      " [0.        ]\n",
      " [0.77736613]\n",
      " [5.019707  ]\n",
      " [0.        ]\n",
      " [9.20775245]]\n"
     ]
    }
   ],
   "source": [
    "hidden_layer_0 = np.dot(weights_0, input_vector)\n",
    "hidden_layer_0 += bias_0\n",
    "hidden_layer_0 = ReLU(hidden_layer_0)\n",
    "print(hidden_layer_0)"
   ]
  },
  {
   "cell_type": "markdown",
   "id": "40eb6c2e",
   "metadata": {},
   "source": [
    "\n",
    "    weights_1 shape --> 6 X 6\n",
    "    weights_1 rows --> number_neurons_next_layer = 6\n",
    "    weights_1 columns  --> hidden_layer_1.shape[0] = 6"
   ]
  },
  {
   "cell_type": "code",
   "execution_count": 43,
   "id": "ddd3da6a",
   "metadata": {},
   "outputs": [],
   "source": [
    "weights_1 = np.random.normal(size=(6, hidden_layer_0.shape[0]))\n",
    "bias_1 = np.array([[3, 3, 3, 3, 3, 3]]).T"
   ]
  },
  {
   "cell_type": "code",
   "execution_count": 44,
   "id": "eedf9a74",
   "metadata": {},
   "outputs": [],
   "source": [
    "hidden_layer_1 = ReLU(np.dot(weights_1, hidden_layer_0) + bias_1)"
   ]
  },
  {
   "cell_type": "code",
   "execution_count": 45,
   "id": "42045f22",
   "metadata": {},
   "outputs": [
    {
     "data": {
      "text/plain": [
       "array([[ 8.99335299],\n",
       "       [ 7.07688142],\n",
       "       [ 4.12725729],\n",
       "       [ 2.9490698 ],\n",
       "       [14.09807311],\n",
       "       [ 1.88672416]])"
      ]
     },
     "execution_count": 45,
     "metadata": {},
     "output_type": "execute_result"
    }
   ],
   "source": [
    "hidden_layer_1"
   ]
  },
  {
   "cell_type": "code",
   "execution_count": 47,
   "id": "043a2ec7",
   "metadata": {},
   "outputs": [],
   "source": [
    "weights_2 = np.random.normal(size=(2, hidden_layer_1.shape[0]))\n",
    "bias_2 = np.array([[1, 1]]).T\n",
    "output_vector = ReLU(np.dot(weights_2, hidden_layer_1) + bias_2)"
   ]
  },
  {
   "cell_type": "code",
   "execution_count": 48,
   "id": "4a7cb26c",
   "metadata": {},
   "outputs": [
    {
     "data": {
      "text/plain": [
       "array([[0.],\n",
       "       [0.]])"
      ]
     },
     "execution_count": 48,
     "metadata": {},
     "output_type": "execute_result"
    }
   ],
   "source": [
    "output_vector"
   ]
  },
  {
   "cell_type": "code",
   "execution_count": 52,
   "id": "ee584423",
   "metadata": {},
   "outputs": [],
   "source": [
    "from collections import defaultdict\n",
    "_layer_specifications = dict()\n",
    "def addLayer(number_of_neurons, bias, *, activation=\"ReLu\"):\n",
    "        global _layer_specifications"
   ]
  },
  {
   "cell_type": "code",
   "execution_count": 58,
   "id": "d2797119",
   "metadata": {},
   "outputs": [
    {
     "ename": "TypeError",
     "evalue": "addLayer() got multiple values for argument 'number_of_neurons'",
     "output_type": "error",
     "traceback": [
      "\u001b[1;31m---------------------------------------------------------------------------\u001b[0m",
      "\u001b[1;31mTypeError\u001b[0m                                 Traceback (most recent call last)",
      "Input \u001b[1;32mIn [58]\u001b[0m, in \u001b[0;36m<cell line: 1>\u001b[1;34m()\u001b[0m\n\u001b[1;32m----> 1\u001b[0m \u001b[43maddLayer\u001b[49m\u001b[43m(\u001b[49m\u001b[38;5;241;43m2\u001b[39;49m\u001b[43m,\u001b[49m\u001b[43mnumber_of_neurons\u001b[49m\u001b[38;5;241;43m=\u001b[39;49m\u001b[38;5;241;43m2\u001b[39;49m\u001b[43m,\u001b[49m\u001b[43m \u001b[49m\u001b[43mactivation\u001b[49m\u001b[38;5;241;43m=\u001b[39;49m\u001b[38;5;124;43m\"\u001b[39;49m\u001b[38;5;124;43ms\u001b[39;49m\u001b[38;5;124;43m\"\u001b[39;49m\u001b[43m)\u001b[49m\n",
      "\u001b[1;31mTypeError\u001b[0m: addLayer() got multiple values for argument 'number_of_neurons'"
     ]
    }
   ],
   "source": []
  },
  {
   "cell_type": "code",
   "execution_count": null,
   "id": "840efbb4",
   "metadata": {},
   "outputs": [],
   "source": []
  }
 ],
 "metadata": {
  "kernelspec": {
   "display_name": "Python 3 (ipykernel)",
   "language": "python",
   "name": "python3"
  },
  "language_info": {
   "codemirror_mode": {
    "name": "ipython",
    "version": 3
   },
   "file_extension": ".py",
   "mimetype": "text/x-python",
   "name": "python",
   "nbconvert_exporter": "python",
   "pygments_lexer": "ipython3",
   "version": "3.9.12"
  }
 },
 "nbformat": 4,
 "nbformat_minor": 5
}
